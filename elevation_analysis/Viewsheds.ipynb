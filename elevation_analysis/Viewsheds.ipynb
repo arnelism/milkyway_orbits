{
 "cells": [
  {
   "cell_type": "code",
   "execution_count": 12,
   "metadata": {},
   "outputs": [
    {
     "name": "stdout",
     "output_type": "stream",
     "text": [
      "Requirement already satisfied: geopy in c:\\users\\holger\\anaconda3\\lib\\site-packages (1.17.0)\n",
      "Requirement already satisfied: geographiclib<2,>=1.49 in c:\\users\\holger\\anaconda3\\lib\\site-packages (from geopy) (1.49)\n"
     ]
    },
    {
     "name": "stderr",
     "output_type": "stream",
     "text": [
      "distributed 1.21.8 requires msgpack, which is not installed.\n",
      "You are using pip version 10.0.1, however version 18.1 is available.\n",
      "You should consider upgrading via the 'python -m pip install --upgrade pip' command.\n",
      "distributed 1.21.8 requires msgpack, which is not installed.\n",
      "You are using pip version 10.0.1, however version 18.1 is available.\n",
      "You should consider upgrading via the 'python -m pip install --upgrade pip' command.\n"
     ]
    },
    {
     "name": "stdout",
     "output_type": "stream",
     "text": [
      "Requirement already satisfied: pyproj in c:\\users\\holger\\anaconda3\\lib\\site-packages (1.9.5.1)\n",
      "Enter latitude for point of interest : 58\n",
      "Enter longitude for point of interest : 30\n",
      "[(30.67070797492597, 58.487670772287245), (31.360194110494596, 58.9717012108967), (32.06920843676458, 59.451919882284585), (32.79852896658886, 59.928145812138965), (33.54896176398198, 60.40018794754684), (34.32134079630005, 60.86784459889279), (35.116527527319874, 61.33090286322776), (35.93541020242674, 61.789138031519784), (36.77890277077369, 62.242312982999145), (37.64794338251436, 62.69017757075747)]\n"
     ]
    },
    {
     "ename": "AttributeError",
     "evalue": "'int' object has no attribute 'ReadAsArray'",
     "output_type": "error",
     "traceback": [
      "\u001b[1;31m---------------------------------------------------------------------------\u001b[0m",
      "\u001b[1;31mAttributeError\u001b[0m                            Traceback (most recent call last)",
      "\u001b[1;32m<ipython-input-12-be5f7c395e03>\u001b[0m in \u001b[0;36m<module>\u001b[1;34m()\u001b[0m\n\u001b[0;32m     61\u001b[0m \u001b[1;31m#el3 = data.ReadAsArray(int(points[3][1]), int(points[3][0]), 1, 1)[0][0]\u001b[0m\u001b[1;33m\u001b[0m\u001b[1;33m\u001b[0m\u001b[0m\n\u001b[0;32m     62\u001b[0m \u001b[1;33m\u001b[0m\u001b[0m\n\u001b[1;32m---> 63\u001b[1;33m \u001b[0mx1_height\u001b[0m \u001b[1;33m=\u001b[0m \u001b[0mtif_file\u001b[0m\u001b[1;33m.\u001b[0m\u001b[0mReadAsArray\u001b[0m\u001b[1;33m(\u001b[0m\u001b[0mint\u001b[0m\u001b[1;33m(\u001b[0m\u001b[0mpoints\u001b[0m\u001b[1;33m[\u001b[0m\u001b[1;36m5\u001b[0m\u001b[1;33m]\u001b[0m\u001b[1;33m[\u001b[0m\u001b[1;36m1\u001b[0m\u001b[1;33m]\u001b[0m\u001b[1;33m)\u001b[0m\u001b[1;33m,\u001b[0m \u001b[0mint\u001b[0m\u001b[1;33m(\u001b[0m\u001b[0mpoints\u001b[0m\u001b[1;33m[\u001b[0m\u001b[1;36m5\u001b[0m\u001b[1;33m]\u001b[0m\u001b[1;33m[\u001b[0m\u001b[1;36m0\u001b[0m\u001b[1;33m]\u001b[0m\u001b[1;33m)\u001b[0m\u001b[1;33m,\u001b[0m \u001b[1;36m1\u001b[0m\u001b[1;33m,\u001b[0m \u001b[1;36m1\u001b[0m\u001b[1;33m)\u001b[0m\u001b[1;33m[\u001b[0m\u001b[1;36m0\u001b[0m\u001b[1;33m]\u001b[0m\u001b[1;33m[\u001b[0m\u001b[1;36m0\u001b[0m\u001b[1;33m]\u001b[0m\u001b[1;33m\u001b[0m\u001b[0m\n\u001b[0m\u001b[0;32m     64\u001b[0m \u001b[0mprint\u001b[0m\u001b[1;33m(\u001b[0m\u001b[0mx1_height\u001b[0m\u001b[1;33m)\u001b[0m\u001b[1;33m\u001b[0m\u001b[0m\n\u001b[0;32m     65\u001b[0m \u001b[1;32mdef\u001b[0m \u001b[0mfind_a\u001b[0m\u001b[1;33m(\u001b[0m\u001b[0msatellite_height\u001b[0m\u001b[1;33m,\u001b[0m \u001b[0mpi_height\u001b[0m\u001b[1;33m,\u001b[0m \u001b[0mdistance_pi_sa\u001b[0m\u001b[1;33m)\u001b[0m\u001b[1;33m:\u001b[0m\u001b[1;33m\u001b[0m\u001b[0m\n",
      "\u001b[1;31mAttributeError\u001b[0m: 'int' object has no attribute 'ReadAsArray'"
     ]
    }
   ],
   "source": [
    "!pip install geopy\n",
    "!pip install pyproj\n",
    "from math import sin, cos, sqrt, atan,radians\n",
    "import datetime\n",
    "import requests\n",
    "import geopy.distance\n",
    "from pyproj import Geod\n",
    "\n",
    "#Satellite height in km\n",
    "\n",
    "lat_pi = float(input(\"Enter latitude for point of interest : \"))\n",
    "lon_pi = float(input(\"Enter longitude for point of interest : \"))\n",
    "\n",
    "\n",
    "satellite_height=693\n",
    "    \n",
    "parameters = {\"lat\":lat_pi, \"lng\":lon_pi}\n",
    "\n",
    "# Make a get request with the parameters.\n",
    "response = requests.get(\"http://node-express-env.3hmpndk8fv.eu-central-1.elasticbeanstalk.com/getOverflights\", params=parameters)\n",
    "data=response.json()\n",
    "# Print the content of the response (the data the server returned)\n",
    "distance_pi_sa=data[0][\"distance\"]\n",
    "\n",
    "sat_lon = data[0][\"satelliteLatLng\"][\"lng\"]\n",
    "sat_lat = data[0][\"satelliteLatLng\"][\"lat\"]\n",
    "\n",
    "cons=1\n",
    "#Determine the box    \n",
    "if ((lat_pi-cons)<-180): \n",
    "    west=180 -(cons-lat_pi-180);\n",
    "else: west=lat_pi-cons;\n",
    "    \n",
    "if ((lat_pi+cons)>180):\n",
    "    east=-180 +(cons+lat_pi-180);\n",
    "else: east=lat_pi+cons;\n",
    "\n",
    "if (lon_pi+cons>60):\n",
    "    north=60;\n",
    "else: north=lon_pi+cons;\n",
    "\n",
    "if (lon_pi-cons<-54):\n",
    "    south=-54;\n",
    "else: south=lon_pi-cons;\n",
    "\n",
    "parameters_opentop= {\"demtype\":\"SRTMGL1\",  \"west\":lat_pi, \"south\":lon_pi, \"east\":east, \"north\":north}\n",
    "response_opentop = requests.get(\"http://opentopo.sdsc.edu/otr/getdem\", params=parameters_opentop)\n",
    "tif_file = open(r'C:\\Users\\Holger\\Downloads\\trial.tif','wb').write(response_opentop.content)\n",
    "data = \n",
    "###################### Holger's Code ########################\n",
    "# Going in for looop\n",
    "####################\n",
    "\n",
    "#Retrieve the distance from object to satellite\n",
    "distance_pi_sa=data[0][\"distance\"]\n",
    "\n",
    "geod = Geod('+ellps=WGS84')\n",
    "points = geod.npts(lon_pi, lat_pi, sat_lon, sat_lat, 10)\n",
    "#el1 = data.ReadAsArray(int(points[1][1]), int(points[1][0]), 1, 1)[0][0]\n",
    "print(points)\n",
    "#el2 = data.ReadAsArray(int(points[2][1]), int(points[2][0]), 1, 1)[0][0]\n",
    "#el3 = data.ReadAsArray(int(points[3][1]), int(points[3][0]), 1, 1)[0][0]\n",
    "\n",
    "x1_height = tif_file.ReadAsArray(int(points[5][1]), int(points[5][0]), 1, 1)[0][0]\n",
    "print(x1_height)\n",
    "def find_a(satellite_height, pi_height, distance_pi_sa):\n",
    "#Returns the angle to object\n",
    "    norm_height=satellite_height-pi_height\n",
    "    tan=(norm_height/distance_pi_sa)\n",
    "    angle=atan(tan)\n",
    "    return angle\n",
    "\n",
    "\n",
    "#### Holger returns the height of point of interest with cordinates (lat_pi,lon_pi) on a variable \"pi_height\"\n",
    "\n",
    "##We find the angle on the ground for the satellite rays\n",
    "angle = find_a(satellite_height,pi_height,distance_pi_sa)\n",
    "\n",
    "\n",
    "#Determines if one point of interest is in shadow from another object with coordinates(lat_x1,lng_x1) \n",
    "def is_shadow(lat_pi,lng_pi,lat_x1,lng_x1, x1_height,angle):\n",
    "    coords_1 = (lat_pi, lng_pi)\n",
    "    coords_2 = (lat_x1, lng_x1)\n",
    "    distance_pi_x1=geopy.distance.distance(coords_1, coords_2).km\n",
    "    max_allowed_height=tan(angle)*distance_pi_x1\n",
    "    \n",
    "    if (x1_height>=max_allowed_height):\n",
    "        #It is in shadow\n",
    "        return 0\n",
    "    else:\n",
    "        #It is not in shadow\n",
    "        return 1\n",
    "\n",
    "\n",
    "#Holger uses the the points he found and applies the function is in shadow for each of them in the desired direction \n",
    "\n",
    "    "
   ]
  },
  {
   "cell_type": "code",
   "execution_count": null,
   "metadata": {},
   "outputs": [],
   "source": [
    "parameters = {\"lat\": 58.619777025081675, \"lng\": \n",
    "             }\n",
    "\n",
    "# Make a get request with the parameters.\n",
    "response = requests.get(\"http://node-express-env.3hmpndk8fv.eu-central-1.elasticbeanstalk.com/getOverflights\", params=parameters)\n",
    "\n",
    "data=response.json()\n",
    "# Print the content of the response (the data the server returned)\n",
    "print(data[0][\"distance\"])"
   ]
  },
  {
   "cell_type": "code",
   "execution_count": null,
   "metadata": {},
   "outputs": [],
   "source": [
    "parameters = {\"lat\": lat_pi, \"lng\": lon_pi}\n",
    "\n",
    "# Make a get request with the parameters.\n",
    "response = requests.get(\"http://node-express-env.3hmpndk8fv.eu-central-1.elasticbeanstalk.com/getOverflights\", params=parameters)\n",
    "\n",
    "data = response.json()\n",
    "\n"
   ]
  },
  {
   "cell_type": "code",
   "execution_count": null,
   "metadata": {},
   "outputs": [],
   "source": []
  }
 ],
 "metadata": {
  "kernelspec": {
   "display_name": "Python 3",
   "language": "python",
   "name": "python3"
  },
  "language_info": {
   "codemirror_mode": {
    "name": "ipython",
    "version": 3
   },
   "file_extension": ".py",
   "mimetype": "text/x-python",
   "name": "python",
   "nbconvert_exporter": "python",
   "pygments_lexer": "ipython3",
   "version": "3.6.5"
  }
 },
 "nbformat": 4,
 "nbformat_minor": 2
}
